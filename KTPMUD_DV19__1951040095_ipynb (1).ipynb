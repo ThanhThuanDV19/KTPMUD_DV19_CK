{
  "nbformat": 4,
  "nbformat_minor": 0,
  "metadata": {
    "colab": {
      "name": "KTPMUD_DV19_<1951040095>ipynb",
      "provenance": [],
      "collapsed_sections": []
    },
    "kernelspec": {
      "name": "python3",
      "display_name": "Python 3"
    },
    "language_info": {
      "name": "python"
    }
  },
  "cells": [
    {
      "cell_type": "code",
      "metadata": {
        "id": "wV7bFoaiHTyi"
      },
      "source": [
        "from google.colab import drive\n",
        "#mount đến thư mục chứa file KTPMUD_DV19_<1951040095>.ipynb"
      ],
      "execution_count": null,
      "outputs": []
    },
    {
      "cell_type": "code",
      "metadata": {
        "colab": {
          "base_uri": "https://localhost:8080/",
          "height": 130
        },
        "id": "Xz80nrQATCkU",
        "outputId": "e3db0234-3277-4a57-c920-d324cc5694d5"
      },
      "source": [
        "# câu 1 phần 1\n",
        "print(\"CHƯƠNG TRÌNH XÁC ĐỊNH MÃNG 4 PHẦN TỬ CÓ ÍT NHẤT 2 SỐ NGUYÊN TỐ \")\n",
        "array=[ 1, 2, 3, 4]\n",
        "z=0\n",
        "import array as arr \n",
        "a = arr.array('i', [ 1, 2, 3, 4]) \n",
        "def check_prime_number(a[0]):\n",
        "  flag = 1;\n",
        "  if (n < 2):\n",
        "    flag = 0\n",
        "    return flag\n",
        "  for p in range(2,a[0]):\n",
        "    if n%p == 0:\n",
        "      flag = 0\n",
        "      break \n",
        "  return flag\n",
        "a[0] = int(a[0])\n",
        "check = check_prime_number(a[0]);\n",
        "if check == 1\n",
        "z=z+1\n",
        "def check_prime_number(a[1]):\n",
        "  flag = 1;\n",
        "  if (n < 2):\n",
        "    flag = 0\n",
        "    return flag\n",
        "  for p in range(2,a[1]):\n",
        "    if n%p == 0:\n",
        "      flag = 0\n",
        "      break \n",
        "  return flag\n",
        "a[1] = int(a[1])\n",
        "check = check_prime_number(a[1]);\n",
        "if check == 1\n",
        "z=z+1\n",
        "else:\n",
        "def check_prime_number(a[2]):\n",
        "  flag = 1;\n",
        "  if (n < 2):\n",
        "    flag = 0\n",
        "    return flag\n",
        "  for p in range(2,a[2]):\n",
        "    if n%p == 0:\n",
        "      flag = 0\n",
        "      break \n",
        "  return flag\n",
        "a[2] = int(a[2])\n",
        "check = check_prime_number(a[2]);\n",
        "if check == 1\n",
        "z=z+1\n",
        "def check_prime_number(a[3]):\n",
        "  flag = 1;\n",
        "  if (n < 2):\n",
        "    flag = 0\n",
        "    return flag\n",
        "  for p in range(2,a[3]):\n",
        "    if n%p == 0:\n",
        "      flag = 0\n",
        "      break \n",
        "  return flag\n",
        "a[3] = int(a[3])\n",
        "check = check_prime_number(a[3]);\n",
        "if check == 1\n",
        "z=z+1\n",
        "if (z <= 2):\n",
        "  print('False')\n",
        "else:\n",
        "  print('True')\n"
      ],
      "execution_count": 25,
      "outputs": [
        {
          "output_type": "error",
          "ename": "SyntaxError",
          "evalue": "ignored",
          "traceback": [
            "\u001b[0;36m  File \u001b[0;32m\"<ipython-input-25-e50c9b486bc9>\"\u001b[0;36m, line \u001b[0;32m7\u001b[0m\n\u001b[0;31m    def check_prime_number(a[0]):\u001b[0m\n\u001b[0m                            ^\u001b[0m\n\u001b[0;31mSyntaxError\u001b[0m\u001b[0;31m:\u001b[0m invalid syntax\n"
          ]
        }
      ]
    },
    {
      "cell_type": "code",
      "metadata": {
        "id": "k7ruGj9wf_Fb"
      },
      "source": [
        "#Câu 1 phần 2\n",
        "n = float(input(\"Moi nhap real_number: \"))\n",
        "m = float(input(\"Moi nhap image_number: \"))\n",
        "class Sothuc :\n",
        "    def __init__(self,real_number) :\n",
        "        self.real_number = real_number\n",
        "    def gttd(self) :\n",
        "        return (self.real_number *2) * 0.5\n",
        "\n",
        "class Sophuc(Sothuc) :\n",
        "    def __init__(self,real_number, image_number) :\n",
        "        super().__init__(real_number)\n",
        "        self.image_number = image_number\n",
        "    def module(self) :\n",
        "        return (self.image_number**2 + self.real_number**2) ** 0.5\n",
        "\n",
        "sothuc = Sothuc(n)\n",
        "print(\"Tri tuyet doi co gia tri la: \",sothuc.gttd())\n",
        "\n",
        "sophuc = Sophuc(n,m)\n",
        "print(\"module cua so phuc la: \",sophuc.module())"
      ],
      "execution_count": null,
      "outputs": []
    },
    {
      "cell_type": "code",
      "metadata": {
        "id": "KmrqwJlheZNy"
      },
      "source": [
        "def check_prime_number(n):\n",
        "    flag = True;\n",
        "    if (n <2):\n",
        "        flag = False\n",
        "        return flag  \n",
        "    \n",
        "    for p in range(2, n):\n",
        "        if n % p == 0:\n",
        "            flag = False\n",
        "            break\n",
        "    return flag\n",
        "\n",
        "def cau1a(arr):\n",
        "    count = 0\n",
        "    for i in arr:\n",
        "        if check_prime_number(i):\n",
        "            count = count + 1\n",
        "    if count >= 2:\n",
        "        return True\n",
        "    return False"
      ],
      "execution_count": 26,
      "outputs": []
    },
    {
      "cell_type": "code",
      "metadata": {
        "colab": {
          "base_uri": "https://localhost:8080/"
        },
        "id": "AAGiFmQubEQx",
        "outputId": "ebe2d192-b4e9-435e-bc54-cf2de64b912e"
      },
      "source": [
        "z=0\n",
        "a=2\n",
        "b=z+a\n",
        "print(b)"
      ],
      "execution_count": 19,
      "outputs": [
        {
          "output_type": "stream",
          "name": "stdout",
          "text": [
            "2\n"
          ]
        }
      ]
    }
  ]
}